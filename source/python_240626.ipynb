{
 "cells": [
  {
   "cell_type": "markdown",
   "id": "e9c790d6-e60c-4537-ba92-4ca12e533dcc",
   "metadata": {},
   "source": [
    "# 목차1 - 식별자\n",
    "\n",
    "- 식별자에 대해 배웁니다."
   ]
  },
  {
   "cell_type": "code",
   "execution_count": 24,
   "id": "d4639e04-d9b7-4bee-8b74-bb0aefa841f4",
   "metadata": {},
   "outputs": [
    {
     "data": {
      "text/plain": [
       "2"
      ]
     },
     "execution_count": 24,
     "metadata": {},
     "output_type": "execute_result"
    }
   ],
   "source": [
    "1+1"
   ]
  },
  {
   "cell_type": "markdown",
   "id": "b389ccb6-9d4c-4c29-9394-e38c96d676c9",
   "metadata": {},
   "source": [
    "# 목차2 - 식별자 구분하기"
   ]
  },
  {
   "cell_type": "code",
   "execution_count": 27,
   "id": "8e9329fd-abf2-4b31-a533-3f11773ed735",
   "metadata": {},
   "outputs": [],
   "source": [
    "# 대문자  BeautifulSoup()\n",
    "# 소문자 print(), list()"
   ]
  },
  {
   "cell_type": "markdown",
   "id": "589a778d-f88c-449a-a09a-fe91150e8fb1",
   "metadata": {},
   "source": [
    "# 자료형과 문자형\n",
    "- 숫자 : 물건의 가격\n",
    "- 문자 : 메세지 내용\n",
    "- 논리 : True/False"
   ]
  },
  {
   "cell_type": "code",
   "execution_count": 31,
   "id": "fe8d1feb-2f6c-4bcf-9fba-4a2e37ea3af2",
   "metadata": {},
   "outputs": [
    {
     "name": "stdout",
     "output_type": "stream",
     "text": [
      "<class 'str'>\n"
     ]
    }
   ],
   "source": [
    "print(type(\"안녕하세요\"))"
   ]
  },
  {
   "cell_type": "code",
   "execution_count": null,
   "id": "201351ae-0d0c-4335-bbd1-83a05aa00e82",
   "metadata": {},
   "outputs": [],
   "source": []
  }
 ],
 "metadata": {
  "kernelspec": {
   "display_name": "Python 3 (ipykernel)",
   "language": "python",
   "name": "python3"
  },
  "language_info": {
   "codemirror_mode": {
    "name": "ipython",
    "version": 3
   },
   "file_extension": ".py",
   "mimetype": "text/x-python",
   "name": "python",
   "nbconvert_exporter": "python",
   "pygments_lexer": "ipython3",
   "version": "3.11.7"
  }
 },
 "nbformat": 4,
 "nbformat_minor": 5
}
